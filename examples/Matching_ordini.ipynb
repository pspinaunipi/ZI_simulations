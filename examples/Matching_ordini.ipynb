{
 "cells": [
  {
   "cell_type": "code",
   "execution_count": 1,
   "id": "611ae8f3",
   "metadata": {},
   "outputs": [],
   "source": [
    "import pandas as pd\n",
    "import sys, os\n",
    "sys.path.append(\"../main/\")\n",
    "import match\n",
    "import ZI\n",
    "import matplotlib.pyplot as plt"
   ]
  },
  {
   "cell_type": "markdown",
   "id": "c81a30a8",
   "metadata": {},
   "source": [
    "## Matching ordini\n",
    "\n",
    "Per prima cosa carico i dati del dataframe contenente lo stato del LOB e il DataFrame dei trades\n",
    "utilizzando le funzioni load_data e load_trade data (più in là faccio un notebook in cui spiego come utilizzarle)."
   ]
  },
  {
   "cell_type": "code",
   "execution_count": 2,
   "id": "5e77851a",
   "metadata": {
    "scrolled": true
   },
   "outputs": [],
   "source": [
    "# carica dataframe LOB del 01/10/2021\n",
    "DIR = \"../data/LOB_01_10.csv\"\n",
    "# per funzionare correttamente devo utilizzare l'absolute path\n",
    "filepath = os.path.abspath(DIR)\n",
    "df_o = match.load_data(filepath, start_month = True)\n",
    "\n",
    "\n",
    "# carica dataframe trade del 01/10/2021\n",
    "DIR_1 = \"../data/trade_01_10.csv\"\n",
    "filepath = os.path.abspath(DIR_1)\n",
    "df_t = match.load_trade_data(filepath, start_month = True)"
   ]
  },
  {
   "cell_type": "code",
   "execution_count": 3,
   "id": "28abb802",
   "metadata": {
    "scrolled": true
   },
   "outputs": [
    {
     "data": {
      "text/html": [
       "<div>\n",
       "<style scoped>\n",
       "    .dataframe tbody tr th:only-of-type {\n",
       "        vertical-align: middle;\n",
       "    }\n",
       "\n",
       "    .dataframe tbody tr th {\n",
       "        vertical-align: top;\n",
       "    }\n",
       "\n",
       "    .dataframe thead th {\n",
       "        text-align: right;\n",
       "    }\n",
       "</style>\n",
       "<table border=\"1\" class=\"dataframe\">\n",
       "  <thead>\n",
       "    <tr style=\"text-align: right;\">\n",
       "      <th></th>\n",
       "      <th>Datetime</th>\n",
       "      <th>BidPrice_0</th>\n",
       "      <th>BidVolume_0</th>\n",
       "      <th>AskPrice_0</th>\n",
       "      <th>AskVolume_0</th>\n",
       "      <th>BidPrice_1</th>\n",
       "      <th>BidVolume_1</th>\n",
       "      <th>AskPrice_1</th>\n",
       "      <th>AskVolume_1</th>\n",
       "      <th>BidPrice_2</th>\n",
       "      <th>...</th>\n",
       "      <th>BidVolume_8</th>\n",
       "      <th>AskPrice_8</th>\n",
       "      <th>AskVolume_8</th>\n",
       "      <th>BidPrice_9</th>\n",
       "      <th>BidVolume_9</th>\n",
       "      <th>AskPrice_9</th>\n",
       "      <th>AskVolume_9</th>\n",
       "      <th>MidPrice</th>\n",
       "      <th>Spread</th>\n",
       "      <th>Seconds</th>\n",
       "    </tr>\n",
       "  </thead>\n",
       "  <tbody>\n",
       "    <tr>\n",
       "      <th>0</th>\n",
       "      <td>2021-10-01 06:00:01.630</td>\n",
       "      <td>10850.0</td>\n",
       "      <td>1.0</td>\n",
       "      <td>14000.0</td>\n",
       "      <td>1.0</td>\n",
       "      <td>5200.0</td>\n",
       "      <td>1.0</td>\n",
       "      <td>0.0</td>\n",
       "      <td>0.0</td>\n",
       "      <td>4800.0</td>\n",
       "      <td>...</td>\n",
       "      <td>0.0</td>\n",
       "      <td>0.0</td>\n",
       "      <td>0.0</td>\n",
       "      <td>0.0</td>\n",
       "      <td>0.0</td>\n",
       "      <td>0.0</td>\n",
       "      <td>0.0</td>\n",
       "      <td>12425.0</td>\n",
       "      <td>3150.0</td>\n",
       "      <td>21601.630</td>\n",
       "    </tr>\n",
       "    <tr>\n",
       "      <th>1</th>\n",
       "      <td>2021-10-01 06:00:19.222</td>\n",
       "      <td>10850.0</td>\n",
       "      <td>1.0</td>\n",
       "      <td>14000.0</td>\n",
       "      <td>1.0</td>\n",
       "      <td>9380.0</td>\n",
       "      <td>1.0</td>\n",
       "      <td>0.0</td>\n",
       "      <td>0.0</td>\n",
       "      <td>5200.0</td>\n",
       "      <td>...</td>\n",
       "      <td>0.0</td>\n",
       "      <td>0.0</td>\n",
       "      <td>0.0</td>\n",
       "      <td>0.0</td>\n",
       "      <td>0.0</td>\n",
       "      <td>0.0</td>\n",
       "      <td>0.0</td>\n",
       "      <td>12425.0</td>\n",
       "      <td>3150.0</td>\n",
       "      <td>21619.222</td>\n",
       "    </tr>\n",
       "    <tr>\n",
       "      <th>2</th>\n",
       "      <td>2021-10-01 06:02:37.526</td>\n",
       "      <td>13000.0</td>\n",
       "      <td>1.0</td>\n",
       "      <td>14000.0</td>\n",
       "      <td>1.0</td>\n",
       "      <td>10850.0</td>\n",
       "      <td>1.0</td>\n",
       "      <td>0.0</td>\n",
       "      <td>0.0</td>\n",
       "      <td>9380.0</td>\n",
       "      <td>...</td>\n",
       "      <td>0.0</td>\n",
       "      <td>0.0</td>\n",
       "      <td>0.0</td>\n",
       "      <td>0.0</td>\n",
       "      <td>0.0</td>\n",
       "      <td>0.0</td>\n",
       "      <td>0.0</td>\n",
       "      <td>13500.0</td>\n",
       "      <td>1000.0</td>\n",
       "      <td>21757.526</td>\n",
       "    </tr>\n",
       "    <tr>\n",
       "      <th>3</th>\n",
       "      <td>2021-10-01 06:03:29.627</td>\n",
       "      <td>13000.0</td>\n",
       "      <td>1.0</td>\n",
       "      <td>14000.0</td>\n",
       "      <td>2.0</td>\n",
       "      <td>10850.0</td>\n",
       "      <td>1.0</td>\n",
       "      <td>0.0</td>\n",
       "      <td>0.0</td>\n",
       "      <td>9380.0</td>\n",
       "      <td>...</td>\n",
       "      <td>0.0</td>\n",
       "      <td>0.0</td>\n",
       "      <td>0.0</td>\n",
       "      <td>0.0</td>\n",
       "      <td>0.0</td>\n",
       "      <td>0.0</td>\n",
       "      <td>0.0</td>\n",
       "      <td>13500.0</td>\n",
       "      <td>1000.0</td>\n",
       "      <td>21809.627</td>\n",
       "    </tr>\n",
       "    <tr>\n",
       "      <th>4</th>\n",
       "      <td>2021-10-01 06:03:56.548</td>\n",
       "      <td>13000.0</td>\n",
       "      <td>1.0</td>\n",
       "      <td>13900.0</td>\n",
       "      <td>1.0</td>\n",
       "      <td>10850.0</td>\n",
       "      <td>1.0</td>\n",
       "      <td>14000.0</td>\n",
       "      <td>1.0</td>\n",
       "      <td>9380.0</td>\n",
       "      <td>...</td>\n",
       "      <td>0.0</td>\n",
       "      <td>0.0</td>\n",
       "      <td>0.0</td>\n",
       "      <td>0.0</td>\n",
       "      <td>0.0</td>\n",
       "      <td>0.0</td>\n",
       "      <td>0.0</td>\n",
       "      <td>13450.0</td>\n",
       "      <td>900.0</td>\n",
       "      <td>21836.548</td>\n",
       "    </tr>\n",
       "  </tbody>\n",
       "</table>\n",
       "<p>5 rows × 44 columns</p>\n",
       "</div>"
      ],
      "text/plain": [
       "                 Datetime  BidPrice_0  BidVolume_0  AskPrice_0  AskVolume_0  \\\n",
       "0 2021-10-01 06:00:01.630     10850.0          1.0     14000.0          1.0   \n",
       "1 2021-10-01 06:00:19.222     10850.0          1.0     14000.0          1.0   \n",
       "2 2021-10-01 06:02:37.526     13000.0          1.0     14000.0          1.0   \n",
       "3 2021-10-01 06:03:29.627     13000.0          1.0     14000.0          2.0   \n",
       "4 2021-10-01 06:03:56.548     13000.0          1.0     13900.0          1.0   \n",
       "\n",
       "   BidPrice_1  BidVolume_1  AskPrice_1  AskVolume_1  BidPrice_2  ...  \\\n",
       "0      5200.0          1.0         0.0          0.0      4800.0  ...   \n",
       "1      9380.0          1.0         0.0          0.0      5200.0  ...   \n",
       "2     10850.0          1.0         0.0          0.0      9380.0  ...   \n",
       "3     10850.0          1.0         0.0          0.0      9380.0  ...   \n",
       "4     10850.0          1.0     14000.0          1.0      9380.0  ...   \n",
       "\n",
       "   BidVolume_8  AskPrice_8  AskVolume_8  BidPrice_9  BidVolume_9  AskPrice_9  \\\n",
       "0          0.0         0.0          0.0         0.0          0.0         0.0   \n",
       "1          0.0         0.0          0.0         0.0          0.0         0.0   \n",
       "2          0.0         0.0          0.0         0.0          0.0         0.0   \n",
       "3          0.0         0.0          0.0         0.0          0.0         0.0   \n",
       "4          0.0         0.0          0.0         0.0          0.0         0.0   \n",
       "\n",
       "   AskVolume_9  MidPrice  Spread    Seconds  \n",
       "0          0.0   12425.0  3150.0  21601.630  \n",
       "1          0.0   12425.0  3150.0  21619.222  \n",
       "2          0.0   13500.0  1000.0  21757.526  \n",
       "3          0.0   13500.0  1000.0  21809.627  \n",
       "4          0.0   13450.0   900.0  21836.548  \n",
       "\n",
       "[5 rows x 44 columns]"
      ]
     },
     "execution_count": 3,
     "metadata": {},
     "output_type": "execute_result"
    }
   ],
   "source": [
    "df_o.head()"
   ]
  },
  {
   "cell_type": "markdown",
   "id": "c19846b1",
   "metadata": {},
   "source": [
    "Successivamente ho ricavato dallo stato del book usando la funzione clean_data le seguenti informazioni:\n",
    "\n",
    "1. Volume degli ordini\n",
    "2. Prezzo degli ordini\n",
    "3. Segno dell'ordine\n",
    "4. Quota a cui è stato fatto l'ordine\n",
    "5. Il tipo di ordine:\n",
    "    - 0.0: Ordine eseguito al di fuori delle 10 migliori quote dell'ask e del bid\n",
    "    - Limit: Limit order\n",
    "    - Market/Cancel: Ordine che può essere sia un trade che una cancellazione"
   ]
  },
  {
   "cell_type": "code",
   "execution_count": 4,
   "id": "5490113a",
   "metadata": {},
   "outputs": [],
   "source": [
    "new_df = match.clean_data(df_o)"
   ]
  },
  {
   "cell_type": "markdown",
   "id": "d636e728",
   "metadata": {},
   "source": [
    "La funzione clean_data prende in input il DataFrame del LOB e ritorna il seguente DataFrame"
   ]
  },
  {
   "cell_type": "code",
   "execution_count": 5,
   "id": "f72dc694",
   "metadata": {
    "scrolled": false
   },
   "outputs": [
    {
     "data": {
      "text/html": [
       "<div>\n",
       "<style scoped>\n",
       "    .dataframe tbody tr th:only-of-type {\n",
       "        vertical-align: middle;\n",
       "    }\n",
       "\n",
       "    .dataframe tbody tr th {\n",
       "        vertical-align: top;\n",
       "    }\n",
       "\n",
       "    .dataframe thead th {\n",
       "        text-align: right;\n",
       "    }\n",
       "</style>\n",
       "<table border=\"1\" class=\"dataframe\">\n",
       "  <thead>\n",
       "    <tr style=\"text-align: right;\">\n",
       "      <th></th>\n",
       "      <th>Price</th>\n",
       "      <th>Volume</th>\n",
       "      <th>Sign</th>\n",
       "      <th>Quote</th>\n",
       "      <th>Type</th>\n",
       "      <th>DateTime</th>\n",
       "      <th>Seconds</th>\n",
       "      <th>Spread</th>\n",
       "      <th>MidPrice</th>\n",
       "      <th>AskVolume_0</th>\n",
       "      <th>BidVolume_0</th>\n",
       "    </tr>\n",
       "  </thead>\n",
       "  <tbody>\n",
       "    <tr>\n",
       "      <th>0</th>\n",
       "      <td>9380.0</td>\n",
       "      <td>1.0</td>\n",
       "      <td>1.0</td>\n",
       "      <td>1</td>\n",
       "      <td>Limit</td>\n",
       "      <td>2021-10-01 06:00:19.222</td>\n",
       "      <td>21619.222</td>\n",
       "      <td>3150.0</td>\n",
       "      <td>12425.0</td>\n",
       "      <td>1.0</td>\n",
       "      <td>1.0</td>\n",
       "    </tr>\n",
       "    <tr>\n",
       "      <th>1</th>\n",
       "      <td>13000.0</td>\n",
       "      <td>1.0</td>\n",
       "      <td>1.0</td>\n",
       "      <td>0</td>\n",
       "      <td>Limit</td>\n",
       "      <td>2021-10-01 06:02:37.526</td>\n",
       "      <td>21757.526</td>\n",
       "      <td>1000.0</td>\n",
       "      <td>13500.0</td>\n",
       "      <td>1.0</td>\n",
       "      <td>1.0</td>\n",
       "    </tr>\n",
       "    <tr>\n",
       "      <th>2</th>\n",
       "      <td>14000.0</td>\n",
       "      <td>1.0</td>\n",
       "      <td>-1.0</td>\n",
       "      <td>0</td>\n",
       "      <td>Limit</td>\n",
       "      <td>2021-10-01 06:03:29.627</td>\n",
       "      <td>21809.627</td>\n",
       "      <td>1000.0</td>\n",
       "      <td>13500.0</td>\n",
       "      <td>2.0</td>\n",
       "      <td>1.0</td>\n",
       "    </tr>\n",
       "    <tr>\n",
       "      <th>3</th>\n",
       "      <td>13900.0</td>\n",
       "      <td>1.0</td>\n",
       "      <td>-1.0</td>\n",
       "      <td>0</td>\n",
       "      <td>Market/Cancel</td>\n",
       "      <td>2021-10-01 06:03:56.548</td>\n",
       "      <td>21836.548</td>\n",
       "      <td>900.0</td>\n",
       "      <td>13450.0</td>\n",
       "      <td>1.0</td>\n",
       "      <td>1.0</td>\n",
       "    </tr>\n",
       "    <tr>\n",
       "      <th>4</th>\n",
       "      <td>13700.0</td>\n",
       "      <td>2.0</td>\n",
       "      <td>-1.0</td>\n",
       "      <td>0</td>\n",
       "      <td>Limit</td>\n",
       "      <td>2021-10-01 06:05:42.208</td>\n",
       "      <td>21942.208</td>\n",
       "      <td>700.0</td>\n",
       "      <td>13350.0</td>\n",
       "      <td>2.0</td>\n",
       "      <td>1.0</td>\n",
       "    </tr>\n",
       "  </tbody>\n",
       "</table>\n",
       "</div>"
      ],
      "text/plain": [
       "     Price  Volume  Sign Quote           Type                DateTime  \\\n",
       "0   9380.0     1.0   1.0     1          Limit 2021-10-01 06:00:19.222   \n",
       "1  13000.0     1.0   1.0     0          Limit 2021-10-01 06:02:37.526   \n",
       "2  14000.0     1.0  -1.0     0          Limit 2021-10-01 06:03:29.627   \n",
       "3  13900.0     1.0  -1.0     0  Market/Cancel 2021-10-01 06:03:56.548   \n",
       "4  13700.0     2.0  -1.0     0          Limit 2021-10-01 06:05:42.208   \n",
       "\n",
       "     Seconds  Spread  MidPrice  AskVolume_0  BidVolume_0  \n",
       "0  21619.222  3150.0   12425.0          1.0          1.0  \n",
       "1  21757.526  1000.0   13500.0          1.0          1.0  \n",
       "2  21809.627  1000.0   13500.0          2.0          1.0  \n",
       "3  21836.548   900.0   13450.0          1.0          1.0  \n",
       "4  21942.208   700.0   13350.0          2.0          1.0  "
      ]
     },
     "execution_count": 5,
     "metadata": {},
     "output_type": "execute_result"
    }
   ],
   "source": [
    "new_df.head()"
   ]
  },
  {
   "cell_type": "code",
   "execution_count": 6,
   "id": "3175c032",
   "metadata": {
    "scrolled": true
   },
   "outputs": [
    {
     "data": {
      "text/plain": [
       "Limit            5921\n",
       "Market/Cancel    5150\n",
       "NoBest           1138\n",
       "Name: Type, dtype: int64"
      ]
     },
     "execution_count": 6,
     "metadata": {},
     "output_type": "execute_result"
    }
   ],
   "source": [
    "new_df[\"Type\"].value_counts()"
   ]
  },
  {
   "cell_type": "markdown",
   "id": "0cab8b62",
   "metadata": {},
   "source": [
    "Infine per fare il match degli ordini utilizzo la funzione matching:\n",
    "\n",
    "### Input\n",
    "\n",
    "1. order_df: pd.DataFrame\n",
    "    - DataFrame degli ordini pulito con la funzione clean_data.\n",
    "2. trade_df: pd.DataFrame\n",
    "    - DataFrame dei trades.\n",
    "3. criterion: {\"time\", \"time price\", \"time volume\", \"time\" } (default = \"time\"):\n",
    "    - Criterio considerato per fare matching.\n",
    "4. time_interval: int (default = 5)\n",
    "    - Considero come candidati per il matching tutti gli ordini in un intervallo di +- time interval secondi da un trade.\n",
    "    \n",
    "### Output\n",
    "1. match_df: pd.DataFrame\n",
    "    - DataFrame in cui ho differenziato trades e cancellazioni.\n",
    "2. no_match: int\n",
    "    - Numero di trades per cui non è stato possibile trovare un match"
   ]
  },
  {
   "cell_type": "code",
   "execution_count": 7,
   "id": "8ee843fc",
   "metadata": {
    "scrolled": true
   },
   "outputs": [],
   "source": [
    "matched_data, no_match = match.matching(new_df, df_t, criterion = \"time price sign\", time_interval = 4)"
   ]
  },
  {
   "cell_type": "code",
   "execution_count": 8,
   "id": "3cf25254",
   "metadata": {},
   "outputs": [
    {
     "data": {
      "text/plain": [
       "Limit     5921\n",
       "Cancel    4685\n",
       "NoBest    1138\n",
       "Market     465\n",
       "Name: Type, dtype: int64"
      ]
     },
     "execution_count": 8,
     "metadata": {},
     "output_type": "execute_result"
    }
   ],
   "source": [
    "matched_data[\"Type\"].value_counts()"
   ]
  },
  {
   "cell_type": "code",
   "execution_count": 9,
   "id": "cd0ff1d1",
   "metadata": {
    "scrolled": true
   },
   "outputs": [
    {
     "name": "stdout",
     "output_type": "stream",
     "text": [
      "Numero di trades senza match: 245\n"
     ]
    }
   ],
   "source": [
    "print(f\"Numero di trades senza match: {no_match}\")"
   ]
  },
  {
   "cell_type": "markdown",
   "id": "413a7982",
   "metadata": {},
   "source": [
    "Una volta fatto il matching degli ordini posso stimare i parametri del modello ZI"
   ]
  },
  {
   "cell_type": "code",
   "execution_count": 10,
   "id": "0d3f2aa0",
   "metadata": {},
   "outputs": [
    {
     "name": "stdout",
     "output_type": "stream",
     "text": [
      "lambda = 0.0029, mu = 0.061, delta = 0.14\n"
     ]
    }
   ],
   "source": [
    "X_lo = matched_data[(matched_data[\"Quote\"] == 0) & (matched_data[\"Type\"] == \"Limit\")][\"Volume\"]\n",
    "spr = matched_data[(matched_data[\"Quote\"] == 0) & (matched_data[\"Type\"] == \"Limit\")][\"Spread\"]\n",
    "X_mo = matched_data[matched_data[\"Type\"] == \"Market\"][\"Volume\"]\n",
    "X_c = matched_data[(matched_data[\"Quote\"] == 0) & (matched_data[\"Type\"] == \"Cancel\")][\"Volume\"]\n",
    "V = (matched_data[\"AskVolume_0\"].mean() + matched_data[\"BidVolume_0\"].mean()) / 2\n",
    "# stima parametri ZI\n",
    "lam, mu, delta = ZI.estimate_parameters(X_lo, X_mo, X_c, spr, V)\n",
    "print(f\"lambda = {lam:.4f}, mu = {mu:.3f}, delta = {delta:.2f}\")"
   ]
  }
 ],
 "metadata": {
  "kernelspec": {
   "display_name": "Python 3",
   "language": "python",
   "name": "python3"
  },
  "language_info": {
   "codemirror_mode": {
    "name": "ipython",
    "version": 3
   },
   "file_extension": ".py",
   "mimetype": "text/x-python",
   "name": "python",
   "nbconvert_exporter": "python",
   "pygments_lexer": "ipython3",
   "version": "3.8.8"
  }
 },
 "nbformat": 4,
 "nbformat_minor": 5
}
