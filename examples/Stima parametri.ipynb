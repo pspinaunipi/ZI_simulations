{
 "cells": [
  {
   "cell_type": "code",
   "execution_count": 1,
   "id": "df3e6169",
   "metadata": {},
   "outputs": [],
   "source": [
    "import sys, os\n",
    "sys.path.append(\"../main\")\n",
    "import ZI\n",
    "import matplotlib.pyplot as plt\n",
    "import numpy as np\n",
    "import pandas as pd\n",
    "\n",
    "plt.style.use('dark_background')"
   ]
  },
  {
   "cell_type": "markdown",
   "id": "98bec115",
   "metadata": {},
   "source": [
    "# Stima parametri modello ZI\n",
    "\n",
    "Per stimare i parametri per prima cosa importo i dati."
   ]
  },
  {
   "cell_type": "code",
   "execution_count": 2,
   "id": "74740156",
   "metadata": {
    "scrolled": true
   },
   "outputs": [
    {
     "data": {
      "text/html": [
       "<div>\n",
       "<style scoped>\n",
       "    .dataframe tbody tr th:only-of-type {\n",
       "        vertical-align: middle;\n",
       "    }\n",
       "\n",
       "    .dataframe tbody tr th {\n",
       "        vertical-align: top;\n",
       "    }\n",
       "\n",
       "    .dataframe thead th {\n",
       "        text-align: right;\n",
       "    }\n",
       "</style>\n",
       "<table border=\"1\" class=\"dataframe\">\n",
       "  <thead>\n",
       "    <tr style=\"text-align: right;\">\n",
       "      <th></th>\n",
       "      <th>Price</th>\n",
       "      <th>Volume</th>\n",
       "      <th>Quote</th>\n",
       "      <th>Type</th>\n",
       "      <th>Spread</th>\n",
       "    </tr>\n",
       "  </thead>\n",
       "  <tbody>\n",
       "    <tr>\n",
       "      <th>0</th>\n",
       "      <td>0.0</td>\n",
       "      <td>0.0</td>\n",
       "      <td>NoBest</td>\n",
       "      <td>0.0</td>\n",
       "      <td>31.5</td>\n",
       "    </tr>\n",
       "    <tr>\n",
       "      <th>1</th>\n",
       "      <td>93.8</td>\n",
       "      <td>1.0</td>\n",
       "      <td>1</td>\n",
       "      <td>Limit</td>\n",
       "      <td>31.5</td>\n",
       "    </tr>\n",
       "    <tr>\n",
       "      <th>2</th>\n",
       "      <td>130.0</td>\n",
       "      <td>1.0</td>\n",
       "      <td>0</td>\n",
       "      <td>Limit</td>\n",
       "      <td>10.0</td>\n",
       "    </tr>\n",
       "    <tr>\n",
       "      <th>3</th>\n",
       "      <td>140.0</td>\n",
       "      <td>1.0</td>\n",
       "      <td>0</td>\n",
       "      <td>Limit</td>\n",
       "      <td>10.0</td>\n",
       "    </tr>\n",
       "    <tr>\n",
       "      <th>4</th>\n",
       "      <td>139.0</td>\n",
       "      <td>1.0</td>\n",
       "      <td>0</td>\n",
       "      <td>Cancel</td>\n",
       "      <td>9.0</td>\n",
       "    </tr>\n",
       "  </tbody>\n",
       "</table>\n",
       "</div>"
      ],
      "text/plain": [
       "   Price  Volume   Quote    Type  Spread\n",
       "0    0.0     0.0  NoBest     0.0    31.5\n",
       "1   93.8     1.0       1   Limit    31.5\n",
       "2  130.0     1.0       0   Limit    10.0\n",
       "3  140.0     1.0       0   Limit    10.0\n",
       "4  139.0     1.0       0  Cancel     9.0"
      ]
     },
     "execution_count": 2,
     "metadata": {},
     "output_type": "execute_result"
    }
   ],
   "source": [
    "data = pd.read_csv(\"../data/best_matching.csv\", usecols = [1,2,4,5,8])\n",
    "data.head()"
   ]
  },
  {
   "cell_type": "markdown",
   "id": "79bcd346",
   "metadata": {},
   "source": [
    "Successivamente ho bisogno delle seguenti informazioni:\n",
    "\n",
    "1. Volume limit orders per ordini alle migliori quote.\n",
    "2. Spread quando vengono piazzati ordini alle migliori quote.\n",
    "2. Volume Market order.\n",
    "3. Volume cancellazioni di ordini alle migliori quote.\n",
    "4. Volume medio delle migliori quote all ask e al bid."
   ]
  },
  {
   "cell_type": "code",
   "execution_count": 3,
   "id": "47447451",
   "metadata": {},
   "outputs": [],
   "source": [
    "# volume limit order alle migliori quote\n",
    "X_lo = data[(data[\"Quote\"] == \"0\") & (data[\"Type\"] == \"Limit\")][\"Volume\"]\n",
    "# spread limit order alle migliori quote (moltiplico per cento perché lo spread riportato\n",
    "# è in € mentre per stimare il valore di lambda lo spread deve essere espresso in tick ovvero € cent)\n",
    "spr = data[(data[\"Quote\"] == \"0\") & (data[\"Type\"] == \"Limit\")][\"Spread\"].multiply(100)\n",
    "# volume market orders\n",
    "X_mo = data[data[\"Type\"] == \"Market\"][\"Volume\"]\n",
    "# volume cancel order alle migliori quote\n",
    "X_c = data[(data[\"Quote\"] == \"0\") & (data[\"Type\"] == \"Cancel\")][\"Volume\"]\n",
    "# volume medio all'ask e al bid\n",
    "V = 2"
   ]
  },
  {
   "cell_type": "markdown",
   "id": "94fc3e17",
   "metadata": {},
   "source": [
    "Una volta calcolate queste grandezze uso la funzione estimate_parameters, che mi ritorna i valori di $\\lambda$, $\\mu$, $\\delta$, del modello ZI."
   ]
  },
  {
   "cell_type": "code",
   "execution_count": 4,
   "id": "cf91b245",
   "metadata": {
    "scrolled": true
   },
   "outputs": [
    {
     "name": "stdout",
     "output_type": "stream",
     "text": [
      "lambda = 0.0027, mu = 0.099, delta = 0.13\n"
     ]
    }
   ],
   "source": [
    "lam, mu, delta = ZI.estimate_parameters(X_lo, X_mo, X_c, spr, V)\n",
    "\n",
    "print(f\"lambda = {lam:.4f}, mu = {mu:.3f}, delta = {delta:.2f}\")"
   ]
  },
  {
   "cell_type": "markdown",
   "id": "11f265ca",
   "metadata": {},
   "source": [
    "Una volta che ho trovato i valori dei parametri li posso usare per fare delle simulazioni (nell'esempio vedo la distribuzione dello spread medio)."
   ]
  },
  {
   "cell_type": "code",
   "execution_count": 6,
   "id": "d218ce18",
   "metadata": {},
   "outputs": [
    {
     "data": {
      "image/png": "[encoded data removed]",
      "text/plain": [
       "<Figure size 432x288 with 1 Axes>"
      ]
     },
     "metadata": {},
     "output_type": "display_data"
    }
   ],
   "source": [
    "lob, sp, mp, _ = ZI.sim_LOB(lam, mu, delta, k = 2000, \n",
    "                                    iterations = 50_000, all_lob = False)\n",
    "\n",
    "plt.hist(sp)\n",
    "plt.show()"
   ]
  }
 ],
 "metadata": {
  "kernelspec": {
   "display_name": "Python 3",
   "language": "python",
   "name": "python3"
  },
  "language_info": {
   "codemirror_mode": {
    "name": "ipython",
    "version": 3
   },
   "file_extension": ".py",
   "mimetype": "text/x-python",
   "name": "python",
   "nbconvert_exporter": "python",
   "pygments_lexer": "ipython3",
   "version": "3.8.8"
  }
 },
 "nbformat": 4,
 "nbformat_minor": 5
}
