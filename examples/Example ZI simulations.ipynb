{
 "cells": [
  {
   "cell_type": "code",
   "execution_count": 1,
   "id": "c9fafe4b",
   "metadata": {},
   "outputs": [],
   "source": [
    "import sys, os\n",
    "sys.path.append(\"../main\")\n",
    "import ZI\n",
    "import matplotlib.pyplot as plt\n",
    "import numpy as np\n",
    "import pandas as pd\n",
    "\n",
    "plt.style.use('dark_background')"
   ]
  },
  {
   "cell_type": "markdown",
   "id": "304f6f4d",
   "metadata": {},
   "source": [
    "# Simulazioni con il modello ZI\n",
    "\n",
    "La funzione principale della libreria ZI è sim_LOB.\n",
    "\n",
    "I parametri della funzione sono:\n",
    "\n",
    "- l_rate (float):\n",
    "    - Rate di arrivo dei limit orders per unità di tempo e per prezzo.\n",
    "    \n",
    "- m_rate (float):\n",
    "    - Rate di arrivo dei market orders.\n",
    "    \n",
    "- c_rate (float):\n",
    "    - Rate probabilità di cancellazione di un ordine.\n",
    "    \n",
    "- m0 (int): default = 0\n",
    "    - Mid price iniziale da cui far partire le simulazioni.\n",
    "    \n",
    "- k (int) default = 100\n",
    "    - Grandezza LOB. Per motivi di velocità computazionale bisogna tagliare il LOB ad una certa distanza dal mid price. In generale bisogna scegliere un valore di k almeno 10 volte più grande dello spread medio.\n",
    "    \n",
    "- iterations (int) default = 10_000:\n",
    "    - Numero di iterazioni della simulazione.\n",
    "    \n",
    "- burn (int) default = None:\n",
    "    - Numero di iterazioni iniziali da scartare. Se nessun valore viene fornito si scarta un numero di iterazioni pari a int(iterations / 3)\n",
    "\n",
    "La funzione ritorna 2 DataFrame:\n",
    "\n",
    "- df_m\n",
    "- df_o\n",
    "\n",
    "   "
   ]
  },
  {
   "cell_type": "markdown",
   "id": "d68287b3",
   "metadata": {},
   "source": [
    "# Esempio\n",
    "\n",
    "Dopo aver ricavato i valori di $\\lambda$, $\\mu$, $\\delta$ da dati TSLA, faccio partire la simulazione con il modello ZI.\n",
    "\n",
    "Visto che lo spread medio di TSLA è di $\\sim$ 20 tick uso come valore di k 200.\n"
   ]
  },
  {
   "cell_type": "code",
   "execution_count": 2,
   "id": "b6ec7488",
   "metadata": {},
   "outputs": [],
   "source": [
    "#parametri ricavati da TSLA\n",
    "rate_lim = 0.023\n",
    "rate_m   = 0.062\n",
    "rate_del = 0.109\n",
    "\n",
    "#faccio partire una simulazione con 50_000 iterazioni utilizzando\n",
    "# i parametri ricavati da TSLA\n",
    "message, order = ZI.sim_LOB(rate_lim, rate_m, rate_del, m0 = 22_500,  k = 200, \n",
    "                                iterations = 50_000)\n"
   ]
  },
  {
   "cell_type": "markdown",
   "id": "2badcd71",
   "metadata": {},
   "source": [
    "Il primo dataframe (o anche message dataframe) contiene le seguenti informazioni:\n",
    "\n",
    "- Spread (int)\n",
    "    - Il bid-ask spread subito dopo l'arrivo di un ordine espresso in tick.\n",
    "- MidPrice (int)\n",
    "    - Il mid price subito dopo l'arrivo di un ordine espresso in tick.\n",
    "- Price (int)\n",
    "    - Il prezzo di un ordine espresso in tick.\n",
    "- Type {\"Limit\", \"Market\", \"Cancel\"}\n",
    "    - Il tipo di un ordine.\n",
    "- Sign {-1, 1}\n",
    "    - Il segno di un ordine (-1 = sell, +1 = buy)."
   ]
  },
  {
   "cell_type": "code",
   "execution_count": 3,
   "id": "6c16a262",
   "metadata": {
    "scrolled": true
   },
   "outputs": [
    {
     "data": {
      "text/html": [
       "<div>\n",
       "<style scoped>\n",
       "    .dataframe tbody tr th:only-of-type {\n",
       "        vertical-align: middle;\n",
       "    }\n",
       "\n",
       "    .dataframe tbody tr th {\n",
       "        vertical-align: top;\n",
       "    }\n",
       "\n",
       "    .dataframe thead th {\n",
       "        text-align: right;\n",
       "    }\n",
       "</style>\n",
       "<table border=\"1\" class=\"dataframe\">\n",
       "  <thead>\n",
       "    <tr style=\"text-align: right;\">\n",
       "      <th></th>\n",
       "      <th>Spread</th>\n",
       "      <th>MidPrice</th>\n",
       "      <th>Price</th>\n",
       "      <th>Type</th>\n",
       "      <th>Sign</th>\n",
       "    </tr>\n",
       "  </thead>\n",
       "  <tbody>\n",
       "    <tr>\n",
       "      <th>0</th>\n",
       "      <td>17.0</td>\n",
       "      <td>22599.5</td>\n",
       "      <td>22585.0</td>\n",
       "      <td>Cancel</td>\n",
       "      <td>1.0</td>\n",
       "    </tr>\n",
       "    <tr>\n",
       "      <th>1</th>\n",
       "      <td>17.0</td>\n",
       "      <td>22599.5</td>\n",
       "      <td>22674.0</td>\n",
       "      <td>Limit</td>\n",
       "      <td>-1.0</td>\n",
       "    </tr>\n",
       "    <tr>\n",
       "      <th>2</th>\n",
       "      <td>17.0</td>\n",
       "      <td>22599.5</td>\n",
       "      <td>22677.0</td>\n",
       "      <td>Limit</td>\n",
       "      <td>-1.0</td>\n",
       "    </tr>\n",
       "    <tr>\n",
       "      <th>3</th>\n",
       "      <td>17.0</td>\n",
       "      <td>22599.5</td>\n",
       "      <td>22558.0</td>\n",
       "      <td>Limit</td>\n",
       "      <td>1.0</td>\n",
       "    </tr>\n",
       "    <tr>\n",
       "      <th>4</th>\n",
       "      <td>17.0</td>\n",
       "      <td>22599.5</td>\n",
       "      <td>22569.0</td>\n",
       "      <td>Cancel</td>\n",
       "      <td>1.0</td>\n",
       "    </tr>\n",
       "  </tbody>\n",
       "</table>\n",
       "</div>"
      ],
      "text/plain": [
       "   Spread  MidPrice    Price    Type  Sign\n",
       "0    17.0   22599.5  22585.0  Cancel   1.0\n",
       "1    17.0   22599.5  22674.0   Limit  -1.0\n",
       "2    17.0   22599.5  22677.0   Limit  -1.0\n",
       "3    17.0   22599.5  22558.0   Limit   1.0\n",
       "4    17.0   22599.5  22569.0  Cancel   1.0"
      ]
     },
     "execution_count": 3,
     "metadata": {},
     "output_type": "execute_result"
    }
   ],
   "source": [
    "message.head()"
   ]
  },
  {
   "cell_type": "markdown",
   "id": "d650d7d3",
   "metadata": {},
   "source": [
    "Il secondo dataframe (order dataframe) contiene il prezzo e il volume delle 10 migliori quote dell'ask e del bid."
   ]
  },
  {
   "cell_type": "code",
   "execution_count": 4,
   "id": "1944409c",
   "metadata": {
    "scrolled": true
   },
   "outputs": [
    {
     "data": {
      "text/html": [
       "<div>\n",
       "<style scoped>\n",
       "    .dataframe tbody tr th:only-of-type {\n",
       "        vertical-align: middle;\n",
       "    }\n",
       "\n",
       "    .dataframe tbody tr th {\n",
       "        vertical-align: top;\n",
       "    }\n",
       "\n",
       "    .dataframe thead th {\n",
       "        text-align: right;\n",
       "    }\n",
       "</style>\n",
       "<table border=\"1\" class=\"dataframe\">\n",
       "  <thead>\n",
       "    <tr style=\"text-align: right;\">\n",
       "      <th></th>\n",
       "      <th>AskPrice_0</th>\n",
       "      <th>AskVolume_0</th>\n",
       "      <th>BidPrice_0</th>\n",
       "      <th>BidVolume_0</th>\n",
       "      <th>AskPrice_1</th>\n",
       "      <th>AskVolume_1</th>\n",
       "      <th>BidPrice_1</th>\n",
       "      <th>BidVolume_1</th>\n",
       "      <th>AskPrice_2</th>\n",
       "      <th>AskVolume_2</th>\n",
       "      <th>...</th>\n",
       "      <th>BidPrice_7</th>\n",
       "      <th>BidVolume_7</th>\n",
       "      <th>AskPrice_8</th>\n",
       "      <th>AskVolume_8</th>\n",
       "      <th>BidPrice_8</th>\n",
       "      <th>BidVolume_8</th>\n",
       "      <th>AskPrice_9</th>\n",
       "      <th>AskVolume_9</th>\n",
       "      <th>BidPrice_9</th>\n",
       "      <th>BidVolume_9</th>\n",
       "    </tr>\n",
       "  </thead>\n",
       "  <tbody>\n",
       "    <tr>\n",
       "      <th>0</th>\n",
       "      <td>22608.0</td>\n",
       "      <td>1.0</td>\n",
       "      <td>22591.0</td>\n",
       "      <td>1.0</td>\n",
       "      <td>22615.0</td>\n",
       "      <td>1.0</td>\n",
       "      <td>22583.0</td>\n",
       "      <td>1.0</td>\n",
       "      <td>22625.0</td>\n",
       "      <td>1.0</td>\n",
       "      <td>...</td>\n",
       "      <td>22533.0</td>\n",
       "      <td>1.0</td>\n",
       "      <td>22690.0</td>\n",
       "      <td>1.0</td>\n",
       "      <td>22532.0</td>\n",
       "      <td>1.0</td>\n",
       "      <td>22500.0</td>\n",
       "      <td>0.0</td>\n",
       "      <td>22526.0</td>\n",
       "      <td>1.0</td>\n",
       "    </tr>\n",
       "    <tr>\n",
       "      <th>1</th>\n",
       "      <td>22608.0</td>\n",
       "      <td>1.0</td>\n",
       "      <td>22591.0</td>\n",
       "      <td>1.0</td>\n",
       "      <td>22615.0</td>\n",
       "      <td>1.0</td>\n",
       "      <td>22583.0</td>\n",
       "      <td>1.0</td>\n",
       "      <td>22625.0</td>\n",
       "      <td>1.0</td>\n",
       "      <td>...</td>\n",
       "      <td>22533.0</td>\n",
       "      <td>1.0</td>\n",
       "      <td>22690.0</td>\n",
       "      <td>1.0</td>\n",
       "      <td>22532.0</td>\n",
       "      <td>1.0</td>\n",
       "      <td>22500.0</td>\n",
       "      <td>0.0</td>\n",
       "      <td>22526.0</td>\n",
       "      <td>1.0</td>\n",
       "    </tr>\n",
       "    <tr>\n",
       "      <th>2</th>\n",
       "      <td>22608.0</td>\n",
       "      <td>1.0</td>\n",
       "      <td>22591.0</td>\n",
       "      <td>1.0</td>\n",
       "      <td>22615.0</td>\n",
       "      <td>1.0</td>\n",
       "      <td>22583.0</td>\n",
       "      <td>1.0</td>\n",
       "      <td>22625.0</td>\n",
       "      <td>1.0</td>\n",
       "      <td>...</td>\n",
       "      <td>22533.0</td>\n",
       "      <td>1.0</td>\n",
       "      <td>22677.0</td>\n",
       "      <td>1.0</td>\n",
       "      <td>22532.0</td>\n",
       "      <td>1.0</td>\n",
       "      <td>22690.0</td>\n",
       "      <td>1.0</td>\n",
       "      <td>22526.0</td>\n",
       "      <td>1.0</td>\n",
       "    </tr>\n",
       "    <tr>\n",
       "      <th>3</th>\n",
       "      <td>22608.0</td>\n",
       "      <td>1.0</td>\n",
       "      <td>22591.0</td>\n",
       "      <td>1.0</td>\n",
       "      <td>22615.0</td>\n",
       "      <td>1.0</td>\n",
       "      <td>22583.0</td>\n",
       "      <td>1.0</td>\n",
       "      <td>22625.0</td>\n",
       "      <td>1.0</td>\n",
       "      <td>...</td>\n",
       "      <td>22536.0</td>\n",
       "      <td>1.0</td>\n",
       "      <td>22677.0</td>\n",
       "      <td>1.0</td>\n",
       "      <td>22533.0</td>\n",
       "      <td>1.0</td>\n",
       "      <td>22690.0</td>\n",
       "      <td>1.0</td>\n",
       "      <td>22532.0</td>\n",
       "      <td>1.0</td>\n",
       "    </tr>\n",
       "    <tr>\n",
       "      <th>4</th>\n",
       "      <td>22608.0</td>\n",
       "      <td>1.0</td>\n",
       "      <td>22591.0</td>\n",
       "      <td>1.0</td>\n",
       "      <td>22615.0</td>\n",
       "      <td>1.0</td>\n",
       "      <td>22583.0</td>\n",
       "      <td>1.0</td>\n",
       "      <td>22625.0</td>\n",
       "      <td>1.0</td>\n",
       "      <td>...</td>\n",
       "      <td>22536.0</td>\n",
       "      <td>1.0</td>\n",
       "      <td>22677.0</td>\n",
       "      <td>1.0</td>\n",
       "      <td>22533.0</td>\n",
       "      <td>1.0</td>\n",
       "      <td>22690.0</td>\n",
       "      <td>1.0</td>\n",
       "      <td>22532.0</td>\n",
       "      <td>1.0</td>\n",
       "    </tr>\n",
       "  </tbody>\n",
       "</table>\n",
       "<p>5 rows × 40 columns</p>\n",
       "</div>"
      ],
      "text/plain": [
       "   AskPrice_0  AskVolume_0  BidPrice_0  BidVolume_0  AskPrice_1  AskVolume_1  \\\n",
       "0     22608.0          1.0     22591.0          1.0     22615.0          1.0   \n",
       "1     22608.0          1.0     22591.0          1.0     22615.0          1.0   \n",
       "2     22608.0          1.0     22591.0          1.0     22615.0          1.0   \n",
       "3     22608.0          1.0     22591.0          1.0     22615.0          1.0   \n",
       "4     22608.0          1.0     22591.0          1.0     22615.0          1.0   \n",
       "\n",
       "   BidPrice_1  BidVolume_1  AskPrice_2  AskVolume_2  ...  BidPrice_7  \\\n",
       "0     22583.0          1.0     22625.0          1.0  ...     22533.0   \n",
       "1     22583.0          1.0     22625.0          1.0  ...     22533.0   \n",
       "2     22583.0          1.0     22625.0          1.0  ...     22533.0   \n",
       "3     22583.0          1.0     22625.0          1.0  ...     22536.0   \n",
       "4     22583.0          1.0     22625.0          1.0  ...     22536.0   \n",
       "\n",
       "   BidVolume_7  AskPrice_8  AskVolume_8  BidPrice_8  BidVolume_8  AskPrice_9  \\\n",
       "0          1.0     22690.0          1.0     22532.0          1.0     22500.0   \n",
       "1          1.0     22690.0          1.0     22532.0          1.0     22500.0   \n",
       "2          1.0     22677.0          1.0     22532.0          1.0     22690.0   \n",
       "3          1.0     22677.0          1.0     22533.0          1.0     22690.0   \n",
       "4          1.0     22677.0          1.0     22533.0          1.0     22690.0   \n",
       "\n",
       "   AskVolume_9  BidPrice_9  BidVolume_9  \n",
       "0          0.0     22526.0          1.0  \n",
       "1          0.0     22526.0          1.0  \n",
       "2          1.0     22526.0          1.0  \n",
       "3          1.0     22532.0          1.0  \n",
       "4          1.0     22532.0          1.0  \n",
       "\n",
       "[5 rows x 40 columns]"
      ]
     },
     "execution_count": 4,
     "metadata": {},
     "output_type": "execute_result"
    }
   ],
   "source": [
    "order.head()"
   ]
  },
  {
   "cell_type": "markdown",
   "id": "c5512c3f",
   "metadata": {},
   "source": [
    "Possiamo usare i due dataframe per graficare l'andamento del mid price"
   ]
  },
  {
   "cell_type": "code",
   "execution_count": 5,
   "id": "d4be561d",
   "metadata": {
    "scrolled": false
   },
   "outputs": [
    {
     "data": {
      "text/plain": [
       "<AxesSubplot:>"
      ]
     },
     "execution_count": 5,
     "metadata": {},
     "output_type": "execute_result"
    },
    {
     "data": {
      "image/png": "[encoded data removed]",
      "text/plain": [
       "<Figure size 432x288 with 1 Axes>"
      ]
     },
     "metadata": {},
     "output_type": "display_data"
    }
   ],
   "source": [
    "message[\"MidPrice\"].plot()"
   ]
  },
  {
   "cell_type": "markdown",
   "id": "01976379",
   "metadata": {},
   "source": [
    "Per fare l'istogramma del bid-ask spread"
   ]
  },
  {
   "cell_type": "code",
   "execution_count": 6,
   "id": "a007ba73",
   "metadata": {
    "scrolled": true
   },
   "outputs": [
    {
     "data": {
      "text/plain": [
       "<AxesSubplot:>"
      ]
     },
     "execution_count": 6,
     "metadata": {},
     "output_type": "execute_result"
    },
    {
     "data": {
      "image/png": "[encoded data removed]",
      "text/plain": [
       "<Figure size 432x288 with 1 Axes>"
      ]
     },
     "metadata": {},
     "output_type": "display_data"
    }
   ],
   "source": [
    "message[\"Spread\"].hist(bins=np.arange(0,50,5))"
   ]
  },
  {
   "cell_type": "markdown",
   "id": "f64c4988",
   "metadata": {},
   "source": [
    "Per fare un grafico a barre del tipo degli ordini"
   ]
  },
  {
   "cell_type": "code",
   "execution_count": 7,
   "id": "ca09c296",
   "metadata": {
    "scrolled": true
   },
   "outputs": [
    {
     "data": {
      "text/plain": [
       "<AxesSubplot:>"
      ]
     },
     "execution_count": 7,
     "metadata": {},
     "output_type": "execute_result"
    },
    {
     "data": {
      "image/png": "[encoded data removed]",
      "text/plain": [
       "<Figure size 432x288 with 1 Axes>"
      ]
     },
     "metadata": {},
     "output_type": "display_data"
    }
   ],
   "source": [
    "message[\"Type\"].value_counts().plot.bar()"
   ]
  },
  {
   "cell_type": "code",
   "execution_count": null,
   "id": "8eeb4587",
   "metadata": {},
   "outputs": [],
   "source": []
  }
 ],
 "metadata": {
  "kernelspec": {
   "display_name": "Python 3",
   "language": "python",
   "name": "python3"
  },
  "language_info": {
   "codemirror_mode": {
    "name": "ipython",
    "version": 3
   },
   "file_extension": ".py",
   "mimetype": "text/x-python",
   "name": "python",
   "nbconvert_exporter": "python",
   "pygments_lexer": "ipython3",
   "version": "3.8.8"
  }
 },
 "nbformat": 4,
 "nbformat_minor": 5
}
